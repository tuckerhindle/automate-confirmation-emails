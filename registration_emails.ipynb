{
 "cells": [
  {
   "cell_type": "code",
   "execution_count": 1,
   "metadata": {},
   "outputs": [],
   "source": [
    "from datetime import datetime\n",
    "from openpyxl import load_workbook\n",
    "\n",
    "from send_new_email import send_new_email"
   ]
  },
  {
   "cell_type": "code",
   "execution_count": 2,
   "metadata": {},
   "outputs": [],
   "source": [
    "term = 'Fall 2023'\n",
    "workbook = 'Fall 2023 Course Request Form.xlsx'"
   ]
  },
  {
   "cell_type": "code",
   "execution_count": 3,
   "metadata": {},
   "outputs": [],
   "source": [
    "wb = load_workbook(workbook)\n",
    "ws = wb.active\n",
    "\n",
    "row_count = ws.max_row"
   ]
  },
  {
   "cell_type": "code",
   "execution_count": 4,
   "metadata": {},
   "outputs": [
    {
     "name": "stdout",
     "output_type": "stream",
     "text": [
      "Approved Test Student tucker.hindle@gmail.com Multidisciplinary Introduction to Research (EDF 2910)  Friday 10 – 10:50 AM (Boca Raton) [CRN: 15305, Mrs. Coyle]\n",
      "Approved Jane Doe thindle2016@fau.edu RI: Multidisciplinary Research Methods 2 (EDF 3912) Friday 11 – 11:50 AM (Jupiter) [CRN: 15311, Dr. Meredith]\n",
      "Approved Post Script thindle2016@fau.edu Multidisciplinary Introduction to Research (EDF 2910)  Friday 1 – 1:50 PM (Boca Raton) [CRN: 15306, Ms. Hendrickson]\n"
     ]
    }
   ],
   "source": [
    "for row in range(2, row_count + 1):\n",
    "\n",
    "    status = ws.cell(row=row, column=15).value\n",
    "    course1 = ws.cell(row=row, column=12).value\n",
    "    course2 = ws.cell(row=row, column=13).value\n",
    "\n",
    "    if status == 'Approved':\n",
    "        name = ws.cell(row=row, column=7).value\n",
    "        recipient = ws.cell(row=row, column=8).value\n",
    "        course = ws.cell(row=row, column=11).value\n",
    "        section = course2 if course1 is None else course1\n",
    "        \n",
    "        print(status, name, recipient, course, section)\n",
    "\n",
    "        subject = f'Approved to Register for {term} {course}'\n",
    "        greeting = f'Hello {name},<br><br>'\n",
    "        message = f'Thank you for completing the {term} Research Courses form.  The instructor approved your request for <b>{course} at {section}</b>.<br><br>Once FAU registration opens, please add this class to your schedule by following these instructions: <a href=\"https://www.fau.edu/registrar/registration/#Register\">FAU Guide to Register for Classes</a><br><br>'\n",
    "        signature = f'We are excited to see you this {term}!<br><br>--<br><b>FAU Lab Schools Research Team</b><br>Florida Atlantic University<br>777 Glades Road, Building 26F, Room 109<br>Boca Raton, Florida 33431'\n",
    "\n",
    "        content = '<h3 style=\"font-weight:normal;\">' + greeting + message + signature + '</h3>'\n",
    "\n",
    "        send_new_email(subject, recipient, content)\n",
    "\n",
    "        new_status = 'done'\n",
    "        ws.cell(row=row, column=15).value = new_status\n",
    "        ws.cell(row=row, column=16).value = datetime.now().strftime('%Y-%m-%d %H:%M:%S')\n",
    "\n",
    "wb.save(workbook)"
   ]
  }
 ],
 "metadata": {
  "kernelspec": {
   "display_name": "py310",
   "language": "python",
   "name": "python3"
  },
  "language_info": {
   "codemirror_mode": {
    "name": "ipython",
    "version": 3
   },
   "file_extension": ".py",
   "mimetype": "text/x-python",
   "name": "python",
   "nbconvert_exporter": "python",
   "pygments_lexer": "ipython3",
   "version": "3.10.9"
  },
  "orig_nbformat": 4,
  "vscode": {
   "interpreter": {
    "hash": "c3bd113cfcd3b7a4c71f003f75e4d956eee7574b38f25c902e4e79a408c3faa8"
   }
  }
 },
 "nbformat": 4,
 "nbformat_minor": 2
}

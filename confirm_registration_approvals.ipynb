{
 "cells": [
  {
   "attachments": {},
   "cell_type": "markdown",
   "metadata": {},
   "source": [
    "## Imports"
   ]
  },
  {
   "cell_type": "code",
   "execution_count": null,
   "metadata": {},
   "outputs": [],
   "source": [
    "from openpyxl import load_workbook\n",
    "from datetime import datetime\n",
    "\n",
    "from outlook_utils import get_cell_value, write_email_content, send_new_email"
   ]
  },
  {
   "attachments": {},
   "cell_type": "markdown",
   "metadata": {},
   "source": [
    "## User Inputs"
   ]
  },
  {
   "cell_type": "code",
   "execution_count": null,
   "metadata": {},
   "outputs": [],
   "source": [
    "workbook = \"C:/Users/thindle2016/Florida Atlantic University/FAU Lab Schools Research Department - Registration/2024-spring/fauhsresearch-permission-requests-2024-spring.xlsx\"\n",
    "term = \"Spring 2024\"\n",
    "outlook_account = \"fauhsresearch@fau.edu\"\n",
    "\n",
    "# Specify column index\n",
    "names = 8\n",
    "emails = 9\n",
    "courses = 13\n",
    "EDF2911_sections = 15\n",
    "EDF3913_sections = 16\n",
    "status_col = 17\n",
    "last_updated = 18"
   ]
  },
  {
   "attachments": {},
   "cell_type": "markdown",
   "metadata": {},
   "source": [
    "## Send email to approved course registrations only, update spreadsheet"
   ]
  },
  {
   "cell_type": "code",
   "execution_count": null,
   "metadata": {},
   "outputs": [],
   "source": [
    "wb = load_workbook(workbook)\n",
    "ws = wb.active\n",
    "\n",
    "row_count = ws.max_row\n",
    "\n",
    "for row in range(2, row_count + 1):\n",
    "\n",
    "    status = get_cell_value(ws, row, status_col)\n",
    "\n",
    "    if status == \"Approved\":\n",
    "        name = get_cell_value(ws, row, names)\n",
    "        recipient = get_cell_value(ws, row, emails)\n",
    "        course = get_cell_value(ws, row, courses)\n",
    "\n",
    "        EDF2911 = get_cell_value(ws, row, EDF2911_sections) # course 1\n",
    "        EDF3913 = get_cell_value(ws, row, EDF3913_sections) # course 2\n",
    "        section = EDF3913 if EDF2911 is None else EDF2911\n",
    "        \n",
    "        subject, body = write_email_content(name, term, course, section)\n",
    "\n",
    "        send_new_email(outlook_account, recipient, subject, body)\n",
    "\n",
    "        new_status = \"Email Sent\"\n",
    "        ws.cell(row=row, column=status_col).value = new_status\n",
    "        ws.cell(row=row, column=last_updated).value = datetime.now().strftime(\"%Y-%m-%d %H:%M:%S\")\n",
    "\n",
    "wb.save(workbook)"
   ]
  }
 ],
 "metadata": {
  "kernelspec": {
   "display_name": "py310",
   "language": "python",
   "name": "python3"
  },
  "language_info": {
   "codemirror_mode": {
    "name": "ipython",
    "version": 3
   },
   "file_extension": ".py",
   "mimetype": "text/x-python",
   "name": "python",
   "nbconvert_exporter": "python",
   "pygments_lexer": "ipython3",
   "version": "3.10.9"
  },
  "orig_nbformat": 4,
  "vscode": {
   "interpreter": {
    "hash": "c3bd113cfcd3b7a4c71f003f75e4d956eee7574b38f25c902e4e79a408c3faa8"
   }
  }
 },
 "nbformat": 4,
 "nbformat_minor": 2
}
